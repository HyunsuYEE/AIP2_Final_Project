{
  "cells": [
    {
      "cell_type": "code",
      "source": [
        "from google.colab import drive\n",
        "drive.mount('/content/drive')"
      ],
      "metadata": {
        "colab": {
          "base_uri": "https://localhost:8080/"
        },
        "id": "G6k5OlkU-P06",
        "outputId": "b7ab3540-d136-417f-d744-d7bf7cf84eda"
      },
      "execution_count": 1,
      "outputs": [
        {
          "output_type": "stream",
          "name": "stdout",
          "text": [
            "Mounted at /content/drive\n"
          ]
        }
      ]
    },
    {
      "cell_type": "code",
      "execution_count": 2,
      "metadata": {
        "id": "RAaJYxkuWydJ"
      },
      "outputs": [],
      "source": [
        "#Import libralies\n",
        "import pandas as pd\n",
        "import numpy as np\n",
        "import matplotlib.pyplot as plt\n",
        "import json\n",
        "import os\n",
        "from tqdm import tqdm, tqdm_notebook\n",
        "import random\n",
        "\n",
        "import tensorflow as tf\n",
        "\n",
        "from tensorflow.keras.preprocessing.image import ImageDataGenerator\n",
        "from tensorflow.keras.models import Model, Sequential\n",
        "from tensorflow.keras.layers import *\n",
        "from tensorflow.keras.optimizers import *\n",
        "from tensorflow.keras.applications import *\n",
        "from tensorflow.keras.callbacks import *\n",
        "from tensorflow.keras.initializers import *\n",
        "\n",
        "#You can import other libraries if you need"
      ]
    },
    {
      "cell_type": "code",
      "source": [],
      "metadata": {
        "id": "xFUR9ka_6WDU"
      },
      "execution_count": null,
      "outputs": []
    },
    {
      "cell_type": "code",
      "execution_count": 3,
      "metadata": {
        "id": "63LkyQuTWydM"
      },
      "outputs": [],
      "source": [
        "###### DO NOT MODIFY THIS PART\n",
        "seed = 42\n",
        "os.environ['PYTHONHASHSEED'] = str(seed)  # fix your random seed : In same model, you produce the same result\n",
        "np.random.seed(seed)\n",
        "tf.random.set_seed(seed)\n",
        "random.seed(seed)\n",
        "from keras import backend as K\n",
        "session_conf = tf.compat.v1.ConfigProto(intra_op_parallelism_threads=1, inter_op_parallelism_threads=1)  \n",
        "sess = tf.compat.v1.Session(graph=tf.compat.v1.get_default_graph(), config=session_conf) # tensorflow class for your operation \n",
        "K.set_session(sess)\n",
        "######"
      ]
    },
    {
      "cell_type": "code",
      "execution_count": 4,
      "metadata": {
        "id": "zbTRB_lEWydM"
      },
      "outputs": [],
      "source": [
        "artists = pd.read_csv('drive/MyDrive/Colab Notebooks/AIP2/test/artists.csv') \n",
        "# Sort artists by number of paintings\n",
        "artists = artists.sort_values(by=['paintings'], ascending=False)\n",
        "\n",
        "\n",
        "artists_top = artists[artists['paintings'] >= 0].reset_index()\n",
        "artists_top = artists_top[['name', 'paintings']]\n",
        "\n",
        "updated_name = \"Albrecht_Dürer\".replace(\"_\", \" \")\n",
        "artists_top.iloc[4, 0] = updated_name\n",
        "# Explore images of top artists\n",
        "images_dir = 'drive/MyDrive/Colab Notebooks/AIP2/test/images/' #Type Your Own Data Directory\n",
        "artists_dirs = os.listdir(images_dir)\n",
        "artists_top_name = artists_top['name'].str.replace(' ', '_').values"
      ]
    },
    {
      "cell_type": "code",
      "execution_count": 5,
      "metadata": {
        "id": "kvsMjTJGWydN",
        "colab": {
          "base_uri": "https://localhost:8080/"
        },
        "outputId": "c134df97-7451-45f9-b058-5fc1654a92ea"
      },
      "outputs": [
        {
          "output_type": "stream",
          "name": "stdout",
          "text": [
            "Found 220 images belonging to 1 classes.\n"
          ]
        }
      ],
      "source": [
        "#Test set load\n",
        "\n",
        "images_dir = 'drive/MyDrive/Colab Notebooks/AIP2/test/images/' #Type Your Own Data Directory\n",
        "artists_dirs = os.listdir(images_dir)\n",
        "artists_top_name = artists_top['name'].str.replace(' ', '_').values\n",
        "\n",
        "input_shape =  (200,200) #Same as input_shape in your train code\n",
        "n_classes = artists_top.shape[0]\n",
        "\n",
        "test_datagen = ImageDataGenerator()\n",
        "\n",
        "test_generator = test_datagen.flow_from_directory(directory=images_dir,\n",
        "                                                    class_mode='categorical',\n",
        "                                                    target_size=input_shape,\n",
        "                                                    batch_size=1,\n",
        "                                                    shuffle=False,\n",
        "                                                    seed=seed,\n",
        "                                                   )"
      ]
    },
    {
      "cell_type": "code",
      "execution_count": 6,
      "metadata": {
        "id": "xmLMtVaqWydN",
        "outputId": "273e20e9-03a6-43f3-d2b7-10e9272086d9",
        "colab": {
          "base_uri": "https://localhost:8080/"
        }
      },
      "outputs": [
        {
          "output_type": "stream",
          "name": "stdout",
          "text": [
            "220/220 [==============================] - 14s 27ms/step\n"
          ]
        },
        {
          "output_type": "execute_result",
          "data": {
            "text/plain": [
              "array([ 0,  0,  0,  5,  5,  1,  5,  5,  5,  5,  5,  5,  5,  0,  5,  5,  5,\n",
              "        4,  5,  2,  5,  5,  5,  5,  5,  6,  6,  6, 10,  9,  6,  6,  6,  6,\n",
              "        6,  0,  6,  6,  6,  6,  6,  6,  6,  7,  6,  6,  0,  7,  7,  7,  0,\n",
              "        7,  7,  7,  7,  7,  7,  0,  7,  7,  7,  7,  7,  7,  7,  7,  7,  7,\n",
              "        0,  8,  8,  8,  8,  0,  8,  8,  8,  8,  8,  0,  8, 10,  8,  8,  8,\n",
              "        8,  8,  8,  8,  8,  0,  9,  9,  9,  9,  9,  7,  9,  9,  9,  9,  0,\n",
              "        9,  9,  9,  9,  9,  9,  9,  9,  9,  9,  0,  5, 10, 10, 10, 10, 10,\n",
              "       10, 10, 10, 10, 10,  1, 10, 10, 10, 10, 10, 10, 10, 10, 10, 10,  1,\n",
              "        1,  1,  1,  1,  1,  1,  1,  0,  1,  1,  1,  1,  1,  1,  1,  1,  1,\n",
              "        1,  0,  2,  2,  2,  2,  2,  2,  2,  2,  2,  2,  0,  2,  2,  2,  2,\n",
              "        0,  2,  2,  2,  2,  2,  0,  3,  3,  3,  3,  3,  3,  3,  3,  3,  3,\n",
              "        0,  3,  3,  3,  8,  3,  3,  3,  3,  3,  3,  0,  2,  4,  4,  4,  4,\n",
              "        4,  4,  4,  4,  4,  0,  4,  4,  4,  4,  4,  4,  4,  4,  4,  4])"
            ]
          },
          "metadata": {},
          "execution_count": 6
        }
      ],
      "source": [
        "model = tf.keras.models.load_model(\"drive/MyDrive/Colab Notebooks/AIP2/new_train/train/20201175_Adam_exponential\")\n",
        "\n",
        "test_generator.reset()\n",
        "output = model.predict(test_generator, steps=test_generator.n)\n",
        "output = np.argmax(output, axis=-1)\n",
        "prediction = pd.DataFrame(output, index=test_generator.filenames, columns=['predictions']).sort_index().to_csv('drive/MyDrive/Colab Notebooks/AIP2/test/20201175_final.csv')\n",
        "output"
      ]
    },
    {
      "cell_type": "code",
      "source": [
        "import collections, numpy\n",
        "collections.Counter(output)"
      ],
      "metadata": {
        "id": "tUuCOo1T7J1e",
        "colab": {
          "base_uri": "https://localhost:8080/"
        },
        "outputId": "c69837f2-d1c0-431c-e8b6-a74502d715a8"
      },
      "execution_count": 7,
      "outputs": [
        {
          "output_type": "execute_result",
          "data": {
            "text/plain": [
              "Counter({0: 22,\n",
              "         5: 19,\n",
              "         1: 20,\n",
              "         4: 20,\n",
              "         2: 21,\n",
              "         6: 17,\n",
              "         10: 22,\n",
              "         9: 20,\n",
              "         7: 21,\n",
              "         8: 19,\n",
              "         3: 19})"
            ]
          },
          "metadata": {},
          "execution_count": 7
        }
      ]
    }
  ],
  "metadata": {
    "kernelspec": {
      "display_name": "Python 3",
      "language": "python",
      "name": "python3"
    },
    "language_info": {
      "codemirror_mode": {
        "name": "ipython",
        "version": 3
      },
      "file_extension": ".py",
      "mimetype": "text/x-python",
      "name": "python",
      "nbconvert_exporter": "python",
      "pygments_lexer": "ipython3",
      "version": "3.8.5"
    },
    "colab": {
      "provenance": []
    },
    "accelerator": "GPU",
    "gpuClass": "standard"
  },
  "nbformat": 4,
  "nbformat_minor": 0
}