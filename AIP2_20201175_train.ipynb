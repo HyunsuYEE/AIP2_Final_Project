{
  "cells": [
    {
      "cell_type": "code",
      "source": [
        "#To use google drive, I import my drive.\n",
        "from google.colab import drive  \n",
        "drive.mount('/content/drive')"
      ],
      "metadata": {
        "colab": {
          "base_uri": "https://localhost:8080/"
        },
        "id": "Rp8OBN5Dgrs0",
        "outputId": "95129aee-657b-4d0c-f575-e4dc609111a6"
      },
      "execution_count": 1,
      "outputs": [
        {
          "output_type": "stream",
          "name": "stdout",
          "text": [
            "Drive already mounted at /content/drive; to attempt to forcibly remount, call drive.mount(\"/content/drive\", force_remount=True).\n"
          ]
        }
      ]
    },
    {
      "cell_type": "code",
      "execution_count": 2,
      "metadata": {
        "id": "HNqKqdnOWy1Q"
      },
      "outputs": [],
      "source": [
        "# Import libraries\n",
        "import pandas as pd\n",
        "import numpy as np\n",
        "import matplotlib.pyplot as plt\n",
        "import json\n",
        "import os\n",
        "from tqdm import tqdm, tqdm_notebook\n",
        "import random\n",
        "\n",
        "import tensorflow as tf\n",
        "from tensorflow import keras\n",
        "from tensorflow.keras.preprocessing.image import ImageDataGenerator\n",
        "from tensorflow.keras.preprocessing.image import load_img\n",
        "from tensorflow.keras.preprocessing.image import img_to_array\n",
        "from tensorflow.keras.models import Model, Sequential\n",
        "from tensorflow.keras.layers import *\n",
        "from tensorflow.keras.optimizers import *\n",
        "from tensorflow.keras.applications import *\n",
        "from tensorflow.keras.callbacks import *\n",
        "from tensorflow.keras.initializers import *\n",
        "\n",
        "#You can import other libraries if you want"
      ]
    },
    {
      "cell_type": "code",
      "execution_count": null,
      "metadata": {
        "id": "KuM2oh_0fT0t"
      },
      "outputs": [],
      "source": []
    },
    {
      "cell_type": "code",
      "execution_count": 3,
      "metadata": {
        "id": "z3RMAm7IWy1R"
      },
      "outputs": [],
      "source": [
        "###### DO NOT MODIFY THIS PART\n",
        "seed = 42\n",
        "os.environ['PYTHONHASHSEED']   = str(seed) # fix your random seed : In same model, you produce the same result\n",
        "np.random.seed(seed)\n",
        "tf.random.set_seed(seed)\n",
        "random.seed(seed) \n",
        "from keras import backend as K\n",
        "session_conf = tf.compat.v1.ConfigProto(intra_op_parallelism_threads=1, inter_op_parallelism_threads=1) \n",
        "sess = tf.compat.v1.Session(graph=tf.compat.v1.get_default_graph(), config=session_conf)\n",
        "tf.compat.v1.keras.backend.set_session(sess)\n",
        "######"
      ]
    },
    {
      "cell_type": "code",
      "execution_count": 4,
      "metadata": {
        "id": "OBQJXrRUWy1R"
      },
      "outputs": [],
      "source": [
        "artists = pd.read_csv('drive/MyDrive/Colab Notebooks/AIP2/new_train/train/artists.csv')\n",
        "# Sort artists by number of paintings\n",
        "artists = artists.sort_values(by=['paintings'], ascending=False)\n",
        "\n",
        "# Create a dataframe with artists having more than 200 paintings\n",
        "artists_top = artists[artists['paintings'] >= 200].reset_index()\n",
        "artists_top = artists_top[['name', 'paintings']]\n",
        "\n",
        "updated_name = \"Albrecht_Dürer\".replace(\"_\", \" \")\n",
        "artists_top.iloc[4, 0] = updated_name"
      ]
    },
    {
      "cell_type": "code",
      "execution_count": 5,
      "metadata": {
        "colab": {
          "base_uri": "https://localhost:8080/"
        },
        "id": "w6T8XFYkWy1S",
        "outputId": "1f6b021f-9e94-4db0-d82d-75acdf4b292b"
      },
      "outputs": [
        {
          "output_type": "stream",
          "name": "stdout",
          "text": [
            "find --> drive/MyDrive/Colab Notebooks/AIP2/new_train/train/images/Vincent_van_Gogh\n",
            "find --> drive/MyDrive/Colab Notebooks/AIP2/new_train/train/images/Edgar_Degas\n",
            "find --> drive/MyDrive/Colab Notebooks/AIP2/new_train/train/images/Pablo_Picasso\n",
            "find --> drive/MyDrive/Colab Notebooks/AIP2/new_train/train/images/Pierre-Auguste_Renoir\n",
            "find --> drive/MyDrive/Colab Notebooks/AIP2/new_train/train/images/Albrecht_Dürer\n",
            "find --> drive/MyDrive/Colab Notebooks/AIP2/new_train/train/images/Paul_Gauguin\n",
            "find --> drive/MyDrive/Colab Notebooks/AIP2/new_train/train/images/Francisco_Goya\n",
            "find --> drive/MyDrive/Colab Notebooks/AIP2/new_train/train/images/Rembrandt\n",
            "find --> drive/MyDrive/Colab Notebooks/AIP2/new_train/train/images/Alfred_Sisley\n",
            "find --> drive/MyDrive/Colab Notebooks/AIP2/new_train/train/images/Titian\n",
            "find --> drive/MyDrive/Colab Notebooks/AIP2/new_train/train/images/Marc_Chagall\n"
          ]
        }
      ],
      "source": [
        "# Explore images of top artists\n",
        "images_dir = 'drive/MyDrive/Colab Notebooks/AIP2/new_train/train/images' #Type Your Own Data Directory\n",
        "artists_dirs = os.listdir(images_dir)\n",
        "artists_top_name = artists_top['name'].str.replace(' ', '_').values\n",
        "\n",
        "# See if all directories exist\n",
        "for name in artists_top_name:    \n",
        "    if os.path.exists(os.path.join(images_dir, name)):  # images_idr: directory folder // name: label (y) \n",
        "        print(\"find -->\", os.path.join(images_dir, name))\n",
        "    else:\n",
        "        print(\"Did not find -->\", os.path.join(images_dir, name))\n",
        "# We can see that all image is found class by class."
      ]
    },
    {
      "cell_type": "code",
      "execution_count": 6,
      "metadata": {
        "id": "B3nfqQ0WWy1S"
      },
      "outputs": [],
      "source": [
        "batch_size =  30 #Type your own batch size\n",
        "input_shape = [200,200]#Type your own input shape\n",
        "n_classes = artists_top.shape[0]\n",
        "\n",
        "#Image data generate with validation data fraction of 0.2 and data rescale 1/255.\n",
        "\n",
        "\n",
        "# I made the 4004 images each artists in the \"new_images\" directory that is my own file.\n",
        "# I use this imagedatagenerator to make more images in my new directory.\n",
        "\n",
        "image_datagen = ImageDataGenerator(validation_split=0.2,\n",
        "                                   width_shift_range=2/15,\n",
        "                                   height_shift_range=1/10,\n",
        "                                   rotation_range=30,\n",
        "                                   rescale=1./255,\n",
        "                                   \n",
        "                      \n",
        "                                   zoom_range = 0.5\n",
        "                                   \n",
        "\n",
        "\n",
        "                                   \n",
        "                                   \n",
        "                                   \n",
        "                                  )\n",
        "\n",
        "\n",
        "\n",
        "\n"
      ]
    },
    {
      "cell_type": "markdown",
      "source": [
        "below 11 cells made the images as much as 4004 each artists.\n",
        "in training, making images is not needed. So I hide it."
      ],
      "metadata": {
        "id": "GN5SQBEyHeyf"
      }
    },
    {
      "cell_type": "code",
      "source": [
        "#@title\n",
        "# Data Augmentation about \"Alfred_Sisley\" -->4004 images\n",
        "# I made it 1001 images at each trial and change the generator attribute. and then rerun this code. <-- this process is done 4 times.\n",
        "\n",
        "image_generator_1 = image_datagen.flow_from_directory(directory=\"drive/MyDrive/Colab Notebooks/AIP2/new_train/train/images/Alfred_Sisley\",\n",
        "                                                      target_size=input_shape,\n",
        "                                                      batch_size=1,\n",
        "                                                      save_to_dir=\"drive/MyDrive/Colab Notebooks/AIP2/new_train/train/new_images/Alfred_Sisley_1\",\n",
        "                                                      save_prefix=\"a_3\",\n",
        "                                                      save_format=\"jpg\")\n",
        "\n",
        "i=0\n",
        "for batch1 in image_generator_1: \n",
        "  i +=1\n",
        "  if i > 1000:\n",
        "        break"
      ],
      "metadata": {
        "id": "rg5FswS40gXt",
        "cellView": "form"
      },
      "execution_count": null,
      "outputs": []
    },
    {
      "cell_type": "code",
      "source": [
        "#@title\n",
        "# Data Augmentation about \"Edgar_Degas\" -->4004 images\n",
        "image_generator_2 = image_datagen.flow_from_directory(directory=\"drive/MyDrive/Colab Notebooks/AIP2/new_train/train/images/Edgar_Degas\",\n",
        "                                                      target_size=input_shape,\n",
        "                                                      batch_size=1,\n",
        "                                                      save_to_dir=\"drive/MyDrive/Colab Notebooks/AIP2/new_train/train/new_images/Edgar_Degas_1\",\n",
        "                                                      save_prefix=\"bb_3\",\n",
        "                                                      save_format=\"jpg\",\n",
        "                                                      \n",
        "                                                      \n",
        "                                                      )\n",
        "\n",
        "i=0\n",
        "for batch2 in image_generator_2: \n",
        "  i +=1\n",
        "  if i > 1000:\n",
        "        break"
      ],
      "metadata": {
        "id": "_cx8WOrc0inF",
        "cellView": "form"
      },
      "execution_count": null,
      "outputs": []
    },
    {
      "cell_type": "code",
      "source": [
        "#@title\n",
        "# Data Augmentation about \"Francisco_Goya\" -->4004 images\n",
        "image_generator_3 = image_datagen.flow_from_directory(directory=\"drive/MyDrive/Colab Notebooks/AIP2/new_train/train/images/Francisco_Goya\",\n",
        "                                                      target_size=input_shape,\n",
        "                                                      batch_size=1,\n",
        "                                                      save_to_dir=\"drive/MyDrive/Colab Notebooks/AIP2/new_train/train/new_images/Francisco_Goya_1\",\n",
        "                                                      save_prefix=\"c_3\",\n",
        "                                                      save_format=\"jpg\",\n",
        "                                                      \n",
        "                                                      )\n",
        "i=0\n",
        "for batch in image_generator_3: \n",
        "  i +=1\n",
        "  if i > 1000:\n",
        "        break"
      ],
      "metadata": {
        "id": "3p-8T_Ux0ijg",
        "cellView": "form"
      },
      "execution_count": null,
      "outputs": []
    },
    {
      "cell_type": "code",
      "source": [
        "#@title\n",
        "# Data Augmentation about \"Marc_Chagall\" -->4004 images\n",
        "image_generator_4 = image_datagen.flow_from_directory(directory=\"drive/MyDrive/Colab Notebooks/AIP2/new_train/train/images/Marc_Chagall\",\n",
        "                                                      target_size=input_shape,\n",
        "                                                      batch_size=1,\n",
        "                                                      save_to_dir=\"drive/MyDrive/Colab Notebooks/AIP2/new_train/train/new_images/Marc_Chagall_1\",\n",
        "                                                      save_prefix=\"d_3\",\n",
        "                                                      save_format=\"jpg\"\n",
        "                                                      )\n",
        "i=0\n",
        "for batch in image_generator_4: \n",
        "  i +=1\n",
        "  if i > 1000:\n",
        "        break"
      ],
      "metadata": {
        "id": "C6XxZToi0ihV",
        "cellView": "form"
      },
      "execution_count": null,
      "outputs": []
    },
    {
      "cell_type": "code",
      "source": [
        "#@title\n",
        "# Data Augmentation about \"Pablo_Picasso\" -->4004 images\n",
        "image_generator_5 = image_datagen.flow_from_directory(directory=\"drive/MyDrive/Colab Notebooks/AIP2/new_train/train/images/Pablo_Picasso\",\n",
        "                                                      target_size=input_shape,\n",
        "                                                      batch_size=1,\n",
        "                                                      save_to_dir=\"drive/MyDrive/Colab Notebooks/AIP2/new_train/train/new_images/Pablo_Picasso_1\",\n",
        "                                                      save_prefix=\"e_3\",\n",
        "                                                      save_format=\"jpg\"\n",
        "                                                      )\n",
        "i=0\n",
        "for batch in image_generator_5: \n",
        "  i +=1\n",
        "  if i > 1000:\n",
        "        break"
      ],
      "metadata": {
        "id": "5YTZBd1f0ifT",
        "cellView": "form"
      },
      "execution_count": null,
      "outputs": []
    },
    {
      "cell_type": "code",
      "source": [
        "#@title\n",
        "# Data Augmentation about \"Paul_Gauguin\" -->4004 images\n",
        "image_generator_6 = image_datagen.flow_from_directory(directory=\"drive/MyDrive/Colab Notebooks/AIP2/new_train/train/images/Paul_Gauguin\",\n",
        "                                                      target_size=input_shape,\n",
        "                                                      batch_size=1,\n",
        "                                                      save_to_dir=\"drive/MyDrive/Colab Notebooks/AIP2/new_train/train/new_images/Paul_Gauguin_1\",\n",
        "                                                      save_prefix=\"f_3\",\n",
        "                                                      save_format=\"jpg\",\n",
        "                                                      )\n",
        "i=0\n",
        "for batch in image_generator_6: \n",
        "  i +=1\n",
        "  if i > 1000:\n",
        "        break"
      ],
      "metadata": {
        "id": "DHNZyd_n0idS",
        "cellView": "form"
      },
      "execution_count": null,
      "outputs": []
    },
    {
      "cell_type": "code",
      "source": [
        "#@title\n",
        "# Data Augmentation about \"Pierre-Auguste_Renoir\" -->4004 images\n",
        "image_generator_7 = image_datagen.flow_from_directory(directory=\"drive/MyDrive/Colab Notebooks/AIP2/new_train/train/images/Pierre-Auguste_Renoir\",\n",
        "                                                      target_size=input_shape,\n",
        "                                                      batch_size=1,\n",
        "                                                      save_to_dir=\"drive/MyDrive/Colab Notebooks/AIP2/new_train/train/new_images/Pierre-Auguste_Renoir_1\",\n",
        "                                                      save_prefix=\"g_3\",\n",
        "                                                      save_format=\"jpg\",\n",
        "                                                      \n",
        "                                                      )\n",
        "i=0\n",
        "for batch in image_generator_7: \n",
        "  i +=1\n",
        "  if i > 1000:\n",
        "        break"
      ],
      "metadata": {
        "id": "ZLH8T4pT0ia-",
        "cellView": "form"
      },
      "execution_count": null,
      "outputs": []
    },
    {
      "cell_type": "code",
      "source": [
        "#@title\n",
        "# Data Augmentation about \"Rembrandt\" -->4004 images\n",
        "image_generator_8 = image_datagen.flow_from_directory(directory=\"drive/MyDrive/Colab Notebooks/AIP2/new_train/train/images/Rembrandt\",\n",
        "                                                      target_size=input_shape,\n",
        "                                                      save_to_dir=\"drive/MyDrive/Colab Notebooks/AIP2/new_train/train/new_images/Rembrandt_1\",\n",
        "                                                      save_prefix=\"h_3\",\n",
        "                                                      save_format=\"jpg\",\n",
        "                                                      batch_size=1,\n",
        "                                                      )\n",
        "i=0\n",
        "for batch in image_generator_8: \n",
        "  i +=1\n",
        "  if i > 1000:\n",
        "        break"
      ],
      "metadata": {
        "id": "E0DITTpI0iYz",
        "cellView": "form"
      },
      "execution_count": null,
      "outputs": []
    },
    {
      "cell_type": "code",
      "source": [
        "#@title\n",
        "# Data Augmentation about \"Titian\" -->4004 images\n",
        "image_generator_9 = image_datagen.flow_from_directory(directory=\"drive/MyDrive/Colab Notebooks/AIP2/new_train/train/images/Titian\",\n",
        "                                                      target_size=input_shape,\n",
        "                                                      save_to_dir=\"drive/MyDrive/Colab Notebooks/AIP2/new_train/train/new_images/Titian_1\",\n",
        "                                                      save_prefix=\"i_3\",\n",
        "                                                      save_format=\"jpg\",\n",
        "                                                      batch_size=1,\n",
        "                                                      )\n",
        "i=0\n",
        "for batch in image_generator_9: \n",
        "  i +=1\n",
        "  if i > 1000:\n",
        "        break"
      ],
      "metadata": {
        "id": "NSBdP7Ec0iWn",
        "cellView": "form"
      },
      "execution_count": null,
      "outputs": []
    },
    {
      "cell_type": "code",
      "source": [
        "#@title\n",
        "# Data Augmentation about \"Vincent_van_Gogh\" -->4004 images\n",
        "image_generator_10 = image_datagen.flow_from_directory(directory=\"drive/MyDrive/Colab Notebooks/AIP2/new_train/train/images/Vincent_van_Gogh\",\n",
        "                                                      target_size=input_shape,\n",
        "                                                       save_to_dir=\"drive/MyDrive/Colab Notebooks/AIP2/new_train/train/new_images/Vincent_van_Gogh_1\",\n",
        "                                                      save_prefix=\"j_3\",\n",
        "                                                      save_format=\"jpg\",\n",
        "                                                      batch_size=1\n",
        "                                                      )\n",
        "i=0\n",
        "for batch in image_generator_10: \n",
        "  i +=1\n",
        "  if i > 1000:\n",
        "        break"
      ],
      "metadata": {
        "id": "z6WRmkqYfSmc",
        "colab": {
          "base_uri": "https://localhost:8080/"
        },
        "cellView": "form",
        "outputId": "1ed73319-1f07-4939-c8ac-bb08c0bd1224"
      },
      "execution_count": null,
      "outputs": [
        {
          "output_type": "stream",
          "name": "stdout",
          "text": [
            "Found 0 images belonging to 0 classes.\n"
          ]
        }
      ]
    },
    {
      "cell_type": "code",
      "source": [
        "#@title\n",
        "image_generator_11 = image_datagen.flow_from_directory(directory=\"drive/MyDrive/Colab Notebooks/AIP2/new_train/train/images/Albrecht_Dürer\",\n",
        "                                                      target_size=input_shape,\n",
        "                                                      batch_size=1,\n",
        "                                                      save_to_dir=\"drive/MyDrive/Colab Notebooks/AIP2/new_train/train/new_images/Albrecht_Dürer_1\",\n",
        "                                                      save_prefix=\"k_3\",\n",
        "                                                      save_format=\"jpg\")\n",
        "\n",
        "i=0\n",
        "for batch1 in image_generator_11: \n",
        "  i +=1\n",
        "  if i > 1000:\n",
        "        break"
      ],
      "metadata": {
        "colab": {
          "base_uri": "https://localhost:8080/"
        },
        "cellView": "form",
        "id": "JndcjBDIAqYx",
        "outputId": "11731df6-843c-4b39-8339-d0397a802308"
      },
      "execution_count": null,
      "outputs": [
        {
          "output_type": "stream",
          "name": "stdout",
          "text": [
            "Found 288 images belonging to 1 classes.\n"
          ]
        }
      ]
    },
    {
      "cell_type": "code",
      "source": [
        "# I already augmented the image data. So, in training, I just use little attribute about it.\n",
        "train_datagen = ImageDataGenerator(validation_split=0.2,\n",
        "                                   \n",
        "                                   \n",
        "                                   )"
      ],
      "metadata": {
        "id": "Mw9sQZVrwHNw"
      },
      "execution_count": 7,
      "outputs": []
    },
    {
      "cell_type": "code",
      "source": [
        "# Thanks to dlow_from_directory, I can choose the images as much as batch_size by fitting class's name automatically. \n",
        "batch_size =  30\n",
        "# I have more images on directory and same number of images about each artists.\n",
        "# to increase the val_accuracy, \"keep_aspect_ratio\" attribute is added.\n",
        "train_generator = train_datagen.flow_from_directory(directory=\"drive/MyDrive/Colab Notebooks/AIP2/new_train/train/new_images\",\n",
        "                                                    class_mode='categorical',\n",
        "                                                    target_size=input_shape,\n",
        "                                                    batch_size=batch_size,\n",
        "                                                   \n",
        "                                                    color_mode=\"rgb\",\n",
        "                                                    keep_aspect_ratio=True,\n",
        "                                                    subset=\"training\",\n",
        "                                                    shuffle=True,\n",
        "                                                    classes=artists_top_name.tolist(),\n",
        "                                                    \n",
        "                                                   )\n",
        "\n",
        "valid_generator = train_datagen.flow_from_directory(directory=\"drive/MyDrive/Colab Notebooks/AIP2/new_train/train/new_images\",\n",
        "                                                    class_mode='categorical',\n",
        "                                                    target_size=input_shape,\n",
        "                                                    batch_size=batch_size,\n",
        "                                                    color_mode=\"rgb\",\n",
        "                                                    keep_aspect_ratio=True,\n",
        "                                                    subset=\"validation\",\n",
        "                                                    shuffle=True,\n",
        "                                                    classes=artists_top_name.tolist(),\n",
        "                                                    \n",
        "                                                   )\n",
        "\n",
        "STEP_SIZE_TRAIN = train_generator.n//train_generator.batch_size\n",
        "STEP_SIZE_VALID = valid_generator.n//valid_generator.batch_size\n",
        "print(\"Total number of batches =\", STEP_SIZE_TRAIN, \"and\", STEP_SIZE_VALID)"
      ],
      "metadata": {
        "id": "YMsZsypee2jh",
        "colab": {
          "base_uri": "https://localhost:8080/"
        },
        "outputId": "09bbd4d7-5d26-4d9f-b000-41964870791c"
      },
      "execution_count": 8,
      "outputs": [
        {
          "output_type": "stream",
          "name": "stdout",
          "text": [
            "Found 35244 images belonging to 11 classes.\n",
            "Found 8800 images belonging to 11 classes.\n",
            "Total number of batches = 1174 and 293\n"
          ]
        }
      ]
    },
    {
      "cell_type": "code",
      "execution_count": 9,
      "metadata": {
        "id": "Uw5Kw3-UWy1T"
      },
      "outputs": [],
      "source": [
        "# I use the ResNet34. because more complicated model shows high overfitting. So to reduce the overfitting, I have to use simple model like ResNet34 not ResNet50 etc..\n",
        "class ResNet34_class(keras.layers.Layer): # ResNet-34\n",
        "  def __init__(self, filters, strides=1, activation=\"relu\", **kwargs):\n",
        "    super().__init__(**kwargs)\n",
        "    self.activation = keras.activations.get(activation) # relu activation in this example\n",
        "    self.main_layers = [\n",
        "      keras.layers.Conv2D(filters, 3, strides=strides, padding=\"same\", use_bias=False),\n",
        "      keras.layers.BatchNormalization(),\n",
        "      self.activation,\n",
        "      keras.layers.Conv2D(filters, 3, strides=1, padding=\"same\", use_bias=False),\n",
        "      keras.layers.BatchNormalization()]\n",
        "    self.skip_layers = [] # to make short cut\n",
        "\n",
        "    if strides > 1: \n",
        "      self.skip_layers = [\n",
        "        keras.layers.Conv2D(filters, 1, strides=strides, padding=\"same\", use_bias=False),\n",
        "      keras.layers.BatchNormalization()]\n",
        "      \n",
        "  def call(self, inputs):\n",
        "    Z = inputs\n",
        "    skip_Z = inputs\n",
        "\n",
        "    for layer in self.main_layers:\n",
        "      Z = layer(Z)\n",
        "      \n",
        "    for layer in self.skip_layers: # adding short-cut\n",
        "      skip_Z = layer(skip_Z)\n",
        "      \n",
        "    return self.activation(Z + skip_Z)\n",
        "\n",
        "\n",
        "#Your Own code\n",
        "\n",
        "\n"
      ]
    },
    {
      "cell_type": "code",
      "source": [
        "model = keras.models.Sequential()\n",
        "\n",
        "model.add(keras.layers.Conv2D(64, 7, strides=2, input_shape=[200, 200, 3], padding=\"same\", use_bias=False))\n",
        "model.add(keras.layers.BatchNormalization())\n",
        "model.add(keras.layers.Activation(\"relu\"))\n",
        "model.add(keras.layers.MaxPool2D(pool_size=3, strides=2, padding=\"same\"))\n",
        "\n",
        "prev_filters = 0\n",
        "for filters in [64] * 3 + [128] * 4 + [256] * 6 + [512] * 3:\n",
        "  # [64, 64, 64, 128, 128, 128, 128, 256, 256, 256, 256, 256, 256, 512, 512, 512]\n",
        "  strides = 1 if filters == prev_filters else 2\n",
        "  model.add(ResNet34_class(filters, strides=strides)) \n",
        "  prev_filters = filters\n",
        "  \n",
        "model.add(keras.layers.GlobalAvgPool2D())\n",
        "model.add(keras.layers.Flatten())\n",
        "model.add(keras.layers.Dropout(0.5)) #to reduce overfitting, I added \"dropout\"\n",
        "model.add(keras.layers.Dense(n_classes, activation=\"softmax\"))\n"
      ],
      "metadata": {
        "id": "qV7CCn4FmzAL"
      },
      "execution_count": 10,
      "outputs": []
    },
    {
      "cell_type": "code",
      "execution_count": 11,
      "metadata": {
        "colab": {
          "base_uri": "https://localhost:8080/"
        },
        "id": "PMqK9efCGUV3",
        "outputId": "bdf72d8a-4349-4eb4-d0a9-d04b5d3a1638"
      },
      "outputs": [
        {
          "output_type": "stream",
          "name": "stdout",
          "text": [
            "Model: \"sequential\"\n",
            "_________________________________________________________________\n",
            " Layer (type)                Output Shape              Param #   \n",
            "=================================================================\n",
            " conv2d (Conv2D)             (None, 100, 100, 64)      9408      \n",
            "                                                                 \n",
            " batch_normalization (BatchN  (None, 100, 100, 64)     256       \n",
            " ormalization)                                                   \n",
            "                                                                 \n",
            " activation (Activation)     (None, 100, 100, 64)      0         \n",
            "                                                                 \n",
            " max_pooling2d (MaxPooling2D  (None, 50, 50, 64)       0         \n",
            " )                                                               \n",
            "                                                                 \n",
            " res_net34_class (ResNet34_c  (None, 25, 25, 64)       78592     \n",
            " lass)                                                           \n",
            "                                                                 \n",
            " res_net34_class_1 (ResNet34  (None, 25, 25, 64)       74240     \n",
            " _class)                                                         \n",
            "                                                                 \n",
            " res_net34_class_2 (ResNet34  (None, 25, 25, 64)       74240     \n",
            " _class)                                                         \n",
            "                                                                 \n",
            " res_net34_class_3 (ResNet34  (None, 13, 13, 128)      230912    \n",
            " _class)                                                         \n",
            "                                                                 \n",
            " res_net34_class_4 (ResNet34  (None, 13, 13, 128)      295936    \n",
            " _class)                                                         \n",
            "                                                                 \n",
            " res_net34_class_5 (ResNet34  (None, 13, 13, 128)      295936    \n",
            " _class)                                                         \n",
            "                                                                 \n",
            " res_net34_class_6 (ResNet34  (None, 13, 13, 128)      295936    \n",
            " _class)                                                         \n",
            "                                                                 \n",
            " res_net34_class_7 (ResNet34  (None, 7, 7, 256)        920576    \n",
            " _class)                                                         \n",
            "                                                                 \n",
            " res_net34_class_8 (ResNet34  (None, 7, 7, 256)        1181696   \n",
            " _class)                                                         \n",
            "                                                                 \n",
            " res_net34_class_9 (ResNet34  (None, 7, 7, 256)        1181696   \n",
            " _class)                                                         \n",
            "                                                                 \n",
            " res_net34_class_10 (ResNet3  (None, 7, 7, 256)        1181696   \n",
            " 4_class)                                                        \n",
            "                                                                 \n",
            " res_net34_class_11 (ResNet3  (None, 7, 7, 256)        1181696   \n",
            " 4_class)                                                        \n",
            "                                                                 \n",
            " res_net34_class_12 (ResNet3  (None, 7, 7, 256)        1181696   \n",
            " 4_class)                                                        \n",
            "                                                                 \n",
            " res_net34_class_13 (ResNet3  (None, 4, 4, 512)        3676160   \n",
            " 4_class)                                                        \n",
            "                                                                 \n",
            " res_net34_class_14 (ResNet3  (None, 4, 4, 512)        4722688   \n",
            " 4_class)                                                        \n",
            "                                                                 \n",
            " res_net34_class_15 (ResNet3  (None, 4, 4, 512)        4722688   \n",
            " 4_class)                                                        \n",
            "                                                                 \n",
            " global_average_pooling2d (G  (None, 512)              0         \n",
            " lobalAveragePooling2D)                                          \n",
            "                                                                 \n",
            " flatten (Flatten)           (None, 512)               0         \n",
            "                                                                 \n",
            " dropout (Dropout)           (None, 512)               0         \n",
            "                                                                 \n",
            " dense (Dense)               (None, 11)                5643      \n",
            "                                                                 \n",
            "=================================================================\n",
            "Total params: 21,311,691\n",
            "Trainable params: 21,294,539\n",
            "Non-trainable params: 17,152\n",
            "_________________________________________________________________\n"
          ]
        }
      ],
      "source": [
        "\n",
        "\n",
        "model.summary()"
      ]
    },
    {
      "cell_type": "code",
      "source": [
        "# to reduce the learning time and overffiting I used the early_stopping_cb. \n",
        "# Additionally, it restore the best weights before overfitting is higher. \n",
        "early_stopping_cb = keras.callbacks.EarlyStopping(patience=5, restore_best_weights=True)\n"
      ],
      "metadata": {
        "id": "6JsfNrwR4Rbn"
      },
      "execution_count": 11,
      "outputs": []
    },
    {
      "cell_type": "code",
      "source": [
        "# this is learning rate scheduling\n",
        "lr_schedule = keras.optimizers.schedules.ExponentialDecay(\n",
        "    initial_learning_rate=1e-3,\n",
        "    decay_steps=10000,\n",
        "    decay_rate=0.9)"
      ],
      "metadata": {
        "id": "6QrX4TmNwD_7"
      },
      "execution_count": 12,
      "outputs": []
    },
    {
      "cell_type": "code",
      "execution_count": 13,
      "metadata": {
        "colab": {
          "base_uri": "https://localhost:8080/"
        },
        "id": "nafwlPeqWy1T",
        "outputId": "e4ffbc95-9b7c-4bdc-dbe9-9dea65cd6e47"
      },
      "outputs": [
        {
          "output_type": "stream",
          "name": "stdout",
          "text": [
            "Epoch 1/50\n"
          ]
        },
        {
          "output_type": "stream",
          "name": "stderr",
          "text": [
            "<ipython-input-13-f8fa26f2c479>:5: UserWarning: `Model.fit_generator` is deprecated and will be removed in a future version. Please use `Model.fit`, which supports generators.\n",
            "  history = model.fit_generator(generator=train_generator, steps_per_epoch=STEP_SIZE_TRAIN,\n"
          ]
        },
        {
          "output_type": "stream",
          "name": "stdout",
          "text": [
            "1174/1174 [==============================] - 152s 123ms/step - loss: 1.7941 - accuracy: 0.4215 - val_loss: 25.9504 - val_accuracy: 0.1484\n",
            "Epoch 2/50\n",
            "1174/1174 [==============================] - 140s 119ms/step - loss: 1.2382 - accuracy: 0.5769 - val_loss: 7.8199 - val_accuracy: 0.1673\n",
            "Epoch 3/50\n",
            "1174/1174 [==============================] - 140s 119ms/step - loss: 1.0281 - accuracy: 0.6530 - val_loss: 1.6309 - val_accuracy: 0.5027\n",
            "Epoch 4/50\n",
            "1174/1174 [==============================] - 140s 119ms/step - loss: 0.8391 - accuracy: 0.7154 - val_loss: 1.0149 - val_accuracy: 0.6914\n",
            "Epoch 5/50\n",
            "1174/1174 [==============================] - 139s 118ms/step - loss: 0.6635 - accuracy: 0.7735 - val_loss: 1.0192 - val_accuracy: 0.6990\n",
            "Epoch 6/50\n",
            "1174/1174 [==============================] - 137s 117ms/step - loss: 0.5141 - accuracy: 0.8263 - val_loss: 1.1596 - val_accuracy: 0.6452\n",
            "Epoch 7/50\n",
            "1174/1174 [==============================] - 139s 118ms/step - loss: 0.3948 - accuracy: 0.8671 - val_loss: 0.7970 - val_accuracy: 0.7678\n",
            "Epoch 8/50\n",
            "1174/1174 [==============================] - 138s 118ms/step - loss: 0.3036 - accuracy: 0.8956 - val_loss: 0.8925 - val_accuracy: 0.7470\n",
            "Epoch 9/50\n",
            "1174/1174 [==============================] - 140s 119ms/step - loss: 0.2344 - accuracy: 0.9206 - val_loss: 0.8753 - val_accuracy: 0.7993\n",
            "Epoch 10/50\n",
            "1174/1174 [==============================] - 138s 117ms/step - loss: 0.1834 - accuracy: 0.9373 - val_loss: 0.9857 - val_accuracy: 0.7916\n",
            "Epoch 11/50\n",
            "1174/1174 [==============================] - 137s 117ms/step - loss: 0.1548 - accuracy: 0.9470 - val_loss: 0.7861 - val_accuracy: 0.7857\n",
            "Epoch 12/50\n",
            "1174/1174 [==============================] - 138s 118ms/step - loss: 0.1240 - accuracy: 0.9594 - val_loss: 0.7649 - val_accuracy: 0.8142\n",
            "Epoch 13/50\n",
            "1174/1174 [==============================] - 145s 123ms/step - loss: 0.1046 - accuracy: 0.9637 - val_loss: 0.8381 - val_accuracy: 0.8175\n",
            "Epoch 14/50\n",
            "1174/1174 [==============================] - 139s 118ms/step - loss: 0.0966 - accuracy: 0.9676 - val_loss: 0.7313 - val_accuracy: 0.8195\n",
            "Epoch 15/50\n",
            "1174/1174 [==============================] - 139s 118ms/step - loss: 0.0769 - accuracy: 0.9742 - val_loss: 1.0192 - val_accuracy: 0.7783\n",
            "Epoch 16/50\n",
            "1174/1174 [==============================] - 138s 117ms/step - loss: 0.0740 - accuracy: 0.9756 - val_loss: 0.9278 - val_accuracy: 0.7981\n",
            "Epoch 17/50\n",
            "1174/1174 [==============================] - 137s 117ms/step - loss: 0.0691 - accuracy: 0.9773 - val_loss: 0.7089 - val_accuracy: 0.8421\n",
            "Epoch 18/50\n",
            "1174/1174 [==============================] - 139s 118ms/step - loss: 0.0558 - accuracy: 0.9816 - val_loss: 0.6918 - val_accuracy: 0.8460\n",
            "Epoch 19/50\n",
            "1174/1174 [==============================] - 138s 117ms/step - loss: 0.0544 - accuracy: 0.9819 - val_loss: 2.3439 - val_accuracy: 0.6478\n",
            "Epoch 20/50\n",
            "1174/1174 [==============================] - 138s 117ms/step - loss: 0.0507 - accuracy: 0.9829 - val_loss: 0.9342 - val_accuracy: 0.8265\n",
            "Epoch 21/50\n",
            "1174/1174 [==============================] - 137s 117ms/step - loss: 0.0462 - accuracy: 0.9842 - val_loss: 1.0507 - val_accuracy: 0.7931\n",
            "Epoch 22/50\n",
            "1174/1174 [==============================] - 137s 116ms/step - loss: 0.0432 - accuracy: 0.9861 - val_loss: 0.8520 - val_accuracy: 0.8362\n",
            "Epoch 23/50\n",
            "1174/1174 [==============================] - 136s 116ms/step - loss: 0.0436 - accuracy: 0.9861 - val_loss: 0.7915 - val_accuracy: 0.8380\n"
          ]
        }
      ],
      "source": [
        "#training\n",
        "\n",
        "n_epoch = 50 #Your Own Epoch num\n",
        "model.compile(loss=\"categorical_crossentropy\", optimizer=tf.keras.optimizers.Adam(learning_rate=lr_schedule),metrics=[\"accuracy\"])\n",
        "history = model.fit_generator(generator=train_generator, steps_per_epoch=STEP_SIZE_TRAIN,\n",
        "                              validation_data=valid_generator, validation_steps=STEP_SIZE_VALID,\n",
        "                              epochs=n_epoch,callbacks=[early_stopping_cb]) #you can add kwargs if you want"
      ]
    },
    {
      "cell_type": "code",
      "source": [],
      "metadata": {
        "id": "ubAsPKZs4bWC"
      },
      "execution_count": null,
      "outputs": []
    },
    {
      "cell_type": "code",
      "execution_count": 14,
      "metadata": {
        "id": "QztPF_XIWy1U",
        "colab": {
          "base_uri": "https://localhost:8080/",
          "height": 336
        },
        "outputId": "79d95a5c-274c-4308-db88-64451c340692"
      },
      "outputs": [
        {
          "output_type": "display_data",
          "data": {
            "text/plain": [
              "<Figure size 1080x360 with 2 Axes>"
            ],
            "image/png": "[encoded data removed]"
          },
          "metadata": {
            "needs_background": "light"
          }
        }
      ],
      "source": [
        "his = {}\n",
        "his['loss'] = history.history['loss']\n",
        "his['accuracy'] = history.history['accuracy'] \n",
        "his['val_loss'] = history.history['val_loss']\n",
        "his['val_accuracy'] = history.history['val_accuracy']\n",
        "\n",
        "# Plot the training graph\n",
        "def plot_training(history):\n",
        "    acc = history['accuracy']\n",
        "    val_acc = history['val_accuracy']\n",
        "    loss = history['loss']\n",
        "    val_loss = history['val_loss']\n",
        "    epochs = range(len(acc))\n",
        "\n",
        "    fig, axes = plt.subplots(1, 2, figsize=(15,5))\n",
        "    \n",
        "    axes[0].plot(epochs, acc, 'r-', label='Training Accuracy')\n",
        "    axes[0].plot(epochs, val_acc, 'b--', label='Validation Accuracy')\n",
        "    axes[0].set_title('Training and Validation Accuracy')\n",
        "    axes[0].legend(loc='best')\n",
        "\n",
        "    axes[1].plot(epochs, loss, 'r-', label='Training Loss')\n",
        "    axes[1].plot(epochs, val_loss, 'b--', label='Validation Loss')\n",
        "    axes[1].set_title('Training and Validation Loss')\n",
        "    axes[1].legend(loc='best')\n",
        "    \n",
        "    plt.show()\n",
        "    \n",
        "plot_training(his)"
      ]
    },
    {
      "cell_type": "code",
      "execution_count": 15,
      "metadata": {
        "id": "n5OgjYriWy1U",
        "colab": {
          "base_uri": "https://localhost:8080/"
        },
        "outputId": "74bcca99-e3b2-46cf-a011-2dc785e23118"
      },
      "outputs": [
        {
          "output_type": "stream",
          "name": "stderr",
          "text": [
            "WARNING:absl:Found untraced functions such as _jit_compiled_convolution_op, conv2d_1_layer_call_fn, conv2d_1_layer_call_and_return_conditional_losses, _jit_compiled_convolution_op, conv2d_2_layer_call_fn while saving (showing 5 of 109). These functions will not be directly callable after loading.\n"
          ]
        }
      ],
      "source": [
        "model.save(\"drive/MyDrive/Colab Notebooks/AIP2/new_train/train/20201175_Adam_exponential\")"
      ]
    }
  ],
  "metadata": {
    "accelerator": "GPU",
    "colab": {
      "provenance": []
    },
    "gpuClass": "premium",
    "kernelspec": {
      "display_name": "Python 3 (ipykernel)",
      "language": "python",
      "name": "python3"
    },
    "language_info": {
      "codemirror_mode": {
        "name": "ipython",
        "version": 3
      },
      "file_extension": ".py",
      "mimetype": "text/x-python",
      "name": "python",
      "nbconvert_exporter": "python",
      "pygments_lexer": "ipython3",
      "version": "3.9.12"
    }
  },
  "nbformat": 4,
  "nbformat_minor": 0
}